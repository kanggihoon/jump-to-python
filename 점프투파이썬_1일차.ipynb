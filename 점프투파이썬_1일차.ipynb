{
  "nbformat": 4,
  "nbformat_minor": 0,
  "metadata": {
    "colab": {
      "name": "점프투파이썬 1일차",
      "provenance": [],
      "authorship_tag": "ABX9TyNDEi19zV1RGxPlH3x3h+nC",
      "include_colab_link": true
    },
    "kernelspec": {
      "name": "python3",
      "display_name": "Python 3"
    }
  },
  "cells": [
    {
      "cell_type": "markdown",
      "metadata": {
        "id": "view-in-github",
        "colab_type": "text"
      },
      "source": [
        "<a href=\"https://colab.research.google.com/github/kanggihoon/jump-to-python/blob/master/%EC%A0%90%ED%94%84%ED%88%AC%ED%8C%8C%EC%9D%B4%EC%8D%AC_1%EC%9D%BC%EC%B0%A8.ipynb\" target=\"_parent\"><img src=\"https://colab.research.google.com/assets/colab-badge.svg\" alt=\"Open In Colab\"/></a>"
      ]
    },
    {
      "cell_type": "markdown",
      "metadata": {
        "id": "epKi8exG2IQk",
        "colab_type": "text"
      },
      "source": [
        "사칙연산"
      ]
    },
    {
      "cell_type": "code",
      "metadata": {
        "id": "VCvRUUghxp4j",
        "colab_type": "code",
        "colab": {
          "base_uri": "https://localhost:8080/",
          "height": 35
        },
        "outputId": "4328e037-ecf9-4cd5-e4b6-870d7448f7d8"
      },
      "source": [
        "1+2\n"
      ],
      "execution_count": null,
      "outputs": [
        {
          "output_type": "execute_result",
          "data": {
            "text/plain": [
              "3"
            ]
          },
          "metadata": {
            "tags": []
          },
          "execution_count": 3
        }
      ]
    },
    {
      "cell_type": "code",
      "metadata": {
        "id": "x0eMi__s187D",
        "colab_type": "code",
        "colab": {
          "base_uri": "https://localhost:8080/",
          "height": 35
        },
        "outputId": "059c4b11-1f86-47ca-f657-8862a0d54e4c"
      },
      "source": [
        "3/2.4"
      ],
      "execution_count": null,
      "outputs": [
        {
          "output_type": "execute_result",
          "data": {
            "text/plain": [
              "1.25"
            ]
          },
          "metadata": {
            "tags": []
          },
          "execution_count": 4
        }
      ]
    },
    {
      "cell_type": "code",
      "metadata": {
        "id": "zmlaTazC2iIy",
        "colab_type": "code",
        "colab": {
          "base_uri": "https://localhost:8080/",
          "height": 35
        },
        "outputId": "d8db3927-082a-445e-d4e7-6da231a0ab89"
      },
      "source": [
        "3*9"
      ],
      "execution_count": null,
      "outputs": [
        {
          "output_type": "execute_result",
          "data": {
            "text/plain": [
              "27"
            ]
          },
          "metadata": {
            "tags": []
          },
          "execution_count": 5
        }
      ]
    },
    {
      "cell_type": "markdown",
      "metadata": {
        "id": "sZOgFwHm2o7Q",
        "colab_type": "text"
      },
      "source": [
        "변수에 숫자 대입하고 계산하기"
      ]
    },
    {
      "cell_type": "code",
      "metadata": {
        "id": "I-KM9ohr2spn",
        "colab_type": "code",
        "colab": {
          "base_uri": "https://localhost:8080/",
          "height": 35
        },
        "outputId": "637bb50d-ee58-4ac2-f9c0-b085fd4f2e6f"
      },
      "source": [
        "a=1\n",
        "b=1\n",
        "a+b"
      ],
      "execution_count": null,
      "outputs": [
        {
          "output_type": "execute_result",
          "data": {
            "text/plain": [
              "2"
            ]
          },
          "metadata": {
            "tags": []
          },
          "execution_count": 6
        }
      ]
    },
    {
      "cell_type": "markdown",
      "metadata": {
        "id": "ECpVexAQ3ED2",
        "colab_type": "text"
      },
      "source": [
        "변수에 문자 대입하고 출력하기"
      ]
    },
    {
      "cell_type": "code",
      "metadata": {
        "id": "avig8CqM3JfE",
        "colab_type": "code",
        "colab": {
          "base_uri": "https://localhost:8080/",
          "height": 35
        },
        "outputId": "7217a295-09da-4291-b860-b0121c5c032a"
      },
      "source": [
        "a=\"python\"\n",
        "print(a)"
      ],
      "execution_count": null,
      "outputs": [
        {
          "output_type": "stream",
          "text": [
            "python\n"
          ],
          "name": "stdout"
        }
      ]
    },
    {
      "cell_type": "code",
      "metadata": {
        "id": "DS0AXzgD3Ylw",
        "colab_type": "code",
        "colab": {
          "base_uri": "https://localhost:8080/",
          "height": 35
        },
        "outputId": "b1e0eea6-ab17-45f3-ad7b-6207b25becc5"
      },
      "source": [
        "a=\"python\"\n",
        "a"
      ],
      "execution_count": null,
      "outputs": [
        {
          "output_type": "execute_result",
          "data": {
            "application/vnd.google.colaboratory.intrinsic+json": {
              "type": "string"
            },
            "text/plain": [
              "'python'"
            ]
          },
          "metadata": {
            "tags": []
          },
          "execution_count": 8
        }
      ]
    },
    {
      "cell_type": "markdown",
      "metadata": {
        "id": "x5x7Gi_o3kwl",
        "colab_type": "text"
      },
      "source": [
        "조건문if"
      ]
    },
    {
      "cell_type": "code",
      "metadata": {
        "id": "es_GSLgK3pNG",
        "colab_type": "code",
        "colab": {
          "base_uri": "https://localhost:8080/",
          "height": 35
        },
        "outputId": "b7eeb164-9144-4865-fd36-28c42124119c"
      },
      "source": [
        "a=3\n",
        "if a>1:\n",
        "  print(\"a is greater than 1\")"
      ],
      "execution_count": null,
      "outputs": [
        {
          "output_type": "stream",
          "text": [
            "a is greater than 1\n"
          ],
          "name": "stdout"
        }
      ]
    },
    {
      "cell_type": "markdown",
      "metadata": {
        "id": "WZueDmPD4ALE",
        "colab_type": "text"
      },
      "source": [
        "반복문 for"
      ]
    },
    {
      "cell_type": "code",
      "metadata": {
        "id": "gx9yhMaD4Efb",
        "colab_type": "code",
        "colab": {
          "base_uri": "https://localhost:8080/",
          "height": 71
        },
        "outputId": "a2a0fe0d-19ae-4d92-f42a-33dc884da3a2"
      },
      "source": [
        "for a in [1, 2, 3]:\n",
        "  print(a)"
      ],
      "execution_count": null,
      "outputs": [
        {
          "output_type": "stream",
          "text": [
            "1\n",
            "2\n",
            "3\n"
          ],
          "name": "stdout"
        }
      ]
    },
    {
      "cell_type": "markdown",
      "metadata": {
        "id": "6LJm4UbC4YRj",
        "colab_type": "text"
      },
      "source": [
        "반복문 while"
      ]
    },
    {
      "cell_type": "code",
      "metadata": {
        "id": "e3U1pfG54bIM",
        "colab_type": "code",
        "colab": {
          "base_uri": "https://localhost:8080/",
          "height": 71
        },
        "outputId": "6e197a9f-df56-418e-c0c6-20d2518d0928"
      },
      "source": [
        "i=0\n",
        "while i<3:\n",
        "  i=i+1\n",
        "  print(i)"
      ],
      "execution_count": null,
      "outputs": [
        {
          "output_type": "stream",
          "text": [
            "1\n",
            "2\n",
            "3\n"
          ],
          "name": "stdout"
        }
      ]
    },
    {
      "cell_type": "markdown",
      "metadata": {
        "id": "1swnZ4GY464w",
        "colab_type": "text"
      },
      "source": [
        "함수"
      ]
    },
    {
      "cell_type": "code",
      "metadata": {
        "id": "DhApmaRD4_cI",
        "colab_type": "code",
        "colab": {
          "base_uri": "https://localhost:8080/",
          "height": 35
        },
        "outputId": "6bff8ccf-c81f-431a-de83-4b0a89ea53f4"
      },
      "source": [
        "def add(a,b):\n",
        "  return a+b\n",
        "  \n",
        "add(3,4)"
      ],
      "execution_count": null,
      "outputs": [
        {
          "output_type": "execute_result",
          "data": {
            "text/plain": [
              "7"
            ]
          },
          "metadata": {
            "tags": []
          },
          "execution_count": 18
        }
      ]
    }
  ]
}